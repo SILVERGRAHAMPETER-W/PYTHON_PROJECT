{
  "nbformat": 4,
  "nbformat_minor": 0,
  "metadata": {
    "colab": {
      "provenance": []
    },
    "kernelspec": {
      "name": "python3",
      "display_name": "Python 3"
    },
    "language_info": {
      "name": "python"
    }
  },
  "cells": [
    {
      "cell_type": "markdown",
      "source": [
        "# BASIC CALCULATOR"
      ],
      "metadata": {
        "id": "yzncNG9hNRV6"
      }
    },
    {
      "cell_type": "markdown",
      "source": [
        "1. The program defines four functions (add, sub, mul, and div) to perform basic arithmetic operations on two numbers and print the result.\n",
        "\n",
        "2. It enters a while loop that continues until the user chooses to exit (E).\n",
        "\n",
        "3. Inside the loop, it displays a menu of options (A, B, C, D, E) for the user to choose from and prompts the user to input their choice.\n",
        "\n",
        "4. Based on the user's choice, it performs the corresponding operation by calling one of the defined functions with user-provided inputs.\n",
        "\n",
        "5. If the user chooses 'E' or 'e', the program prints \"program ended\" and quits, terminating the loop and ending the program."
      ],
      "metadata": {
        "id": "9eYaUhR28POg"
      }
    },
    {
      "cell_type": "code",
      "source": [
        "def add(a, b):\n",
        "    answer = a + b\n",
        "    print(str(a) + \" + \" + str( b) + \" = \" + str(answer) + \"\\n\")\n",
        "def sub(a, b):\n",
        "    answer = a - b\n",
        "    print(str(a) + \" - \" + str(b ) + \" = \" + str(answer) + \"\\n\")\n",
        "def mul(a, b):\n",
        "    answer = a*b\n",
        "    print(str(a) + \" * \" + str(b) + \" = \" + str(answer) + \"\\n\")\n",
        "def div(a, b):\n",
        "    answer = a / b\n",
        "    print(str(a) + \" / \" + str(b) + \" = \" + str(answer) + \"\\n\")"
      ],
      "metadata": {
        "id": "ZL7foOQHM8d-"
      },
      "execution_count": 2,
      "outputs": []
    },
    {
      "cell_type": "code",
      "execution_count": 3,
      "metadata": {
        "colab": {
          "base_uri": "https://localhost:8080/"
        },
        "id": "5q6dCAVu7JSk",
        "outputId": "132fe3b9-05a7-47f5-ca46-0e6c70e3199f"
      },
      "outputs": [
        {
          "output_type": "stream",
          "name": "stdout",
          "text": [
            "A. Addition\n",
            "B. Subtraction\n",
            "C. Multiplication\n",
            "D. Division\n",
            "E. Exit\n",
            "input your choice: c\n",
            "Multiplication\n",
            "input first number:20\n",
            "input second number: 5\n",
            "20 * 5 = 100\n",
            "\n",
            "A. Addition\n",
            "B. Subtraction\n",
            "C. Multiplication\n",
            "D. Division\n",
            "E. Exit\n",
            "input your choice: e\n",
            "program ended\n"
          ]
        }
      ],
      "source": [
        "while True:\n",
        "    print(\"A. Addition\")\n",
        "    print(\"B. Subtraction\")\n",
        "    print(\"C. Multiplication\")\n",
        "    print(\"D. Division\")\n",
        "    print(\"E. Exit\")\n",
        "    choice = input(\"input your choice: \")\n",
        "\n",
        "    if choice == \"a\" or choice == \"A\":\n",
        "        print(\"Addition\")\n",
        "        a = int(input(\"input first number: \"))\n",
        "        b = int(input(\"input second number: \"))\n",
        "        add(a, b)\n",
        "    elif choice == \"b\" or choice == \"B\":\n",
        "        print(\"Subtraction\")\n",
        "        a = int(input(\"input first number:\"))\n",
        "        b = int(input(\"input second number: \"))\n",
        "        sub(a, b)\n",
        "    elif choice == \"c\" or choice == \"C\":\n",
        "        print(\"Multiplication\")\n",
        "        a = int(input(\"input first number:\"))\n",
        "        b = int(input(\"input second number: \"))\n",
        "        mul(a, b)\n",
        "    elif choice == \"d\" or choice == \"D\":\n",
        "        print(\"Division\" )\n",
        "        a = int(input(\"input first number:\"))\n",
        "        b = int(input(\"input second number: \"))\n",
        "        div(a, b)\n",
        "    elif choice == \"e\" or choice == \"E\":\n",
        "        print(\"program ended\")\n",
        "        break"
      ]
    }
  ]
}