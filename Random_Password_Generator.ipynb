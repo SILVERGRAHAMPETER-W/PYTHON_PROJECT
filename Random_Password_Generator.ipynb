{
  "nbformat": 4,
  "nbformat_minor": 0,
  "metadata": {
    "colab": {
      "provenance": []
    },
    "kernelspec": {
      "name": "python3",
      "display_name": "Python 3"
    },
    "language_info": {
      "name": "python"
    }
  },
  "cells": [
    {
      "cell_type": "markdown",
      "source": [
        "#RANDOM PASSWORD GENERATOR"
      ],
      "metadata": {
        "id": "3nSJ_S0xj4bT"
      }
    },
    {
      "cell_type": "markdown",
      "source": [
        "1. It imports the \"string\" and \"random\" modules to generate a random password.\n",
        "\n",
        "\n",
        "2. It defines a list of characters that can be used in the password, including uppercase and lowercase letters, digits, and a set of special characters.\n",
        "\n",
        "\n",
        "3. The \"generate_password\" function is defined, which prompts the user for the desired password length, shuffles the characters list, randomly selects characters from it to create the password, and then shuffles the password before displaying it.\n",
        "\n",
        "\n",
        "4. It asks the user if they want to generate a password (\"Yes\" or \"No\").\n",
        "\n",
        "\n",
        "5. If the user enters \"Yes,\" it calls the \"generate_password\" function to create and display a random password.\n",
        "\n",
        "\n",
        "6. If the user enters \"No,\" it prints \"Program ended\" and quits.\n",
        "\n",
        "\n",
        "7. If the user enters any other input, it prints \"Invalid input, please input Yes or No\" and quits."
      ],
      "metadata": {
        "id": "tGzDPsh2j72E"
      }
    },
    {
      "cell_type": "code",
      "execution_count": 1,
      "metadata": {
        "id": "nk9AR2WFiflx"
      },
      "outputs": [],
      "source": [
        "import string\n",
        "import random"
      ]
    },
    {
      "cell_type": "code",
      "source": [
        "characters = list(string.ascii_letters + string.digits + \" !@#$%^&*()\")"
      ],
      "metadata": {
        "id": "pP3WwIM2jbXG"
      },
      "execution_count": 2,
      "outputs": []
    },
    {
      "cell_type": "code",
      "source": [
        "def generate_password():\n",
        "    password_length = int(input(\"How long would you like your password to be? \"))\n",
        "\n",
        "    random.shuffle(characters)\n",
        "\n",
        "    password = []\n",
        "\n",
        "    for x in range(password_length):\n",
        "        password.append(random.choice(characters))\n",
        "\n",
        "    random.shuffle(password)\n",
        "\n",
        "    password = \"\" .join(password)\n",
        "    print(password)"
      ],
      "metadata": {
        "id": "DR_tg0efjo9L"
      },
      "execution_count": 3,
      "outputs": []
    },
    {
      "cell_type": "code",
      "source": [
        "option = input(\"Do you want to generate a password? (Yes/No): \")\n",
        "\n",
        "if option == \"Yes\" or \"yes\":\n",
        "    generate_password()\n",
        "elif option == \"No\" or \"no\":\n",
        "    print(\"Program ended\")\n",
        "    quit()\n",
        "else:\n",
        "    print(\"Invalid input, please input Yes or No\")\n",
        "    quit()"
      ],
      "metadata": {
        "colab": {
          "base_uri": "https://localhost:8080/"
        },
        "id": "BNRzu2q1js7l",
        "outputId": "d8b6a9e8-803c-4465-aec5-429d89d5203b"
      },
      "execution_count": 5,
      "outputs": [
        {
          "output_type": "stream",
          "name": "stdout",
          "text": [
            "Do you want to generate a password? (Yes/No): yes\n",
            "How long would you like your password to be? 10\n",
            "0Y8V02BKyn\n"
          ]
        }
      ]
    }
  ]
}