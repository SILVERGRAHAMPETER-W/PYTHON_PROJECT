{
  "nbformat": 4,
  "nbformat_minor": 0,
  "metadata": {
    "colab": {
      "provenance": []
    },
    "kernelspec": {
      "name": "python3",
      "display_name": "Python 3"
    },
    "language_info": {
      "name": "python"
    }
  },
  "cells": [
    {
      "cell_type": "markdown",
      "source": [
        "#QR CODE GENERATOR"
      ],
      "metadata": {
        "id": "xx8IEp0loXs7"
      }
    },
    {
      "cell_type": "markdown",
      "source": [
        "1. Imports the \"qrcode\" library.\n",
        "\n",
        "\n",
        "2. Defines a function called \"generate_qrcode\" that takes a text (URL) as input.\n",
        "\n",
        "\n",
        "3. Inside the \"generate_qrcode\" function, it creates a QR code with the specified configuration (version, error correction level, box size, and border).\n",
        "\n",
        "\n",
        "4. Adds the provided text (URL) to the QR code.\n",
        "\n",
        "\n",
        "5. Generates the QR code image and saves it with the name \"chilluqr.png\" in the current working directory.\n",
        "\n",
        "\n",
        "6. Takes user input for a URL and then calls the \"generate_qrcode\" function with the user-provided URL.\n",
        "\n",
        "\n",
        "7.  The generated QR code image is saved as \"chilluqr.png\" in the current directory."
      ],
      "metadata": {
        "id": "9PE8GF2Hu4BW"
      }
    },
    {
      "cell_type": "code",
      "execution_count": 1,
      "metadata": {
        "colab": {
          "base_uri": "https://localhost:8080/"
        },
        "id": "rECxTSM3kbkk",
        "outputId": "bcce6196-d513-4b91-fe20-9146d46cf812"
      },
      "outputs": [
        {
          "output_type": "stream",
          "name": "stdout",
          "text": [
            "Collecting qrcode\n",
            "  Downloading qrcode-7.4.2-py3-none-any.whl (46 kB)\n",
            "\u001b[?25l     \u001b[90m━━━━━━━━━━━━━━━━━━━━━━━━━━━━━━━━━━━━━━━━\u001b[0m \u001b[32m0.0/46.2 kB\u001b[0m \u001b[31m?\u001b[0m eta \u001b[36m-:--:--\u001b[0m\r\u001b[2K     \u001b[90m━━━━━━━━━━━━━━━━━━━━━━━━━━━━━━━━━━━━━━━━\u001b[0m \u001b[32m46.2/46.2 kB\u001b[0m \u001b[31m2.0 MB/s\u001b[0m eta \u001b[36m0:00:00\u001b[0m\n",
            "\u001b[?25hCollecting Image\n",
            "  Downloading image-1.5.33.tar.gz (15 kB)\n",
            "  Preparing metadata (setup.py) ... \u001b[?25l\u001b[?25hdone\n",
            "Requirement already satisfied: typing-extensions in /usr/local/lib/python3.10/dist-packages (from qrcode) (4.5.0)\n",
            "Collecting pypng (from qrcode)\n",
            "  Downloading pypng-0.20220715.0-py3-none-any.whl (58 kB)\n",
            "\u001b[2K     \u001b[90m━━━━━━━━━━━━━━━━━━━━━━━━━━━━━━━━━━━━━━━━\u001b[0m \u001b[32m58.1/58.1 kB\u001b[0m \u001b[31m6.5 MB/s\u001b[0m eta \u001b[36m0:00:00\u001b[0m\n",
            "\u001b[?25hRequirement already satisfied: pillow in /usr/local/lib/python3.10/dist-packages (from Image) (9.4.0)\n",
            "Collecting django (from Image)\n",
            "  Downloading Django-4.2.5-py3-none-any.whl (8.0 MB)\n",
            "\u001b[2K     \u001b[90m━━━━━━━━━━━━━━━━━━━━━━━━━━━━━━━━━━━━━━━━\u001b[0m \u001b[32m8.0/8.0 MB\u001b[0m \u001b[31m80.1 MB/s\u001b[0m eta \u001b[36m0:00:00\u001b[0m\n",
            "\u001b[?25hRequirement already satisfied: six in /usr/local/lib/python3.10/dist-packages (from Image) (1.16.0)\n",
            "Collecting asgiref<4,>=3.6.0 (from django->Image)\n",
            "  Downloading asgiref-3.7.2-py3-none-any.whl (24 kB)\n",
            "Requirement already satisfied: sqlparse>=0.3.1 in /usr/local/lib/python3.10/dist-packages (from django->Image) (0.4.4)\n",
            "Building wheels for collected packages: Image\n",
            "  Building wheel for Image (setup.py) ... \u001b[?25l\u001b[?25hdone\n",
            "  Created wheel for Image: filename=image-1.5.33-py2.py3-none-any.whl size=19482 sha256=4b8e45bf88348165b6b9826f4b99ebb13085b9720fbd5ac658147445e238e50a\n",
            "  Stored in directory: /root/.cache/pip/wheels/70/0c/a4/7cfa53a5c6225c2db2bfec08e782b43d0f25fdae2e995b69be\n",
            "Successfully built Image\n",
            "Installing collected packages: pypng, qrcode, asgiref, django, Image\n",
            "Successfully installed Image-1.5.33 asgiref-3.7.2 django-4.2.5 pypng-0.20220715.0 qrcode-7.4.2\n"
          ]
        }
      ],
      "source": [
        "pip install qrcode Image"
      ]
    },
    {
      "cell_type": "code",
      "source": [
        "import qrcode"
      ],
      "metadata": {
        "id": "L15fsmUcpRCY"
      },
      "execution_count": 2,
      "outputs": []
    },
    {
      "cell_type": "code",
      "source": [
        "def generate_qrcode(text):\n",
        "    qr = qrcode.QRCode(\n",
        "        version = 1,\n",
        "        error_correction = qrcode.constants. ERROR_CORRECT_L,\n",
        "        box_size=10,\n",
        "        border=4,\n",
        "    )\n",
        "\n",
        "    qr.add_data(text)\n",
        "    qr.make(fit=True)\n",
        "    img = qr.make_image(fill_color=\"black\", back_color=\"white\")\n",
        "    img.save(\"Youtube.png\")"
      ],
      "metadata": {
        "id": "KjVrHY7PpqvS"
      },
      "execution_count": 3,
      "outputs": []
    },
    {
      "cell_type": "code",
      "source": [
        "url = input(\"Enter your url: \")\n",
        "generate_qrcode(url)"
      ],
      "metadata": {
        "colab": {
          "base_uri": "https://localhost:8080/"
        },
        "id": "0n_dq0wwpusG",
        "outputId": "cb1eea51-6956-4ed0-a6a3-af837628756e"
      },
      "execution_count": 4,
      "outputs": [
        {
          "name": "stdout",
          "output_type": "stream",
          "text": [
            "Enter your url: https://www.youtube.com\n"
          ]
        }
      ]
    }
  ]
}